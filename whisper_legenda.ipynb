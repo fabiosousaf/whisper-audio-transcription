{
  "nbformat": 4,
  "nbformat_minor": 0,
  "metadata": {
    "colab": {
      "provenance": [],
      "gpuType": "T4",
      "authorship_tag": "ABX9TyMxhLNzN9yKTuao9xXj3Y2K"
    },
    "kernelspec": {
      "name": "python3",
      "display_name": "Python 3"
    },
    "language_info": {
      "name": "python"
    },
    "accelerator": "GPU"
  },
  "cells": [
    {
      "cell_type": "code",
      "source": [
        "!pip install git+https://github.com/openai/whisper.git\n",
        "!sudo apt update && sudo apt install ffmpeg"
      ],
      "metadata": {
        "collapsed": true,
        "id": "rsrgTLfv_JGS"
      },
      "execution_count": null,
      "outputs": []
    },
    {
      "cell_type": "code",
      "source": [
        "from google.colab import files\n",
        "\n",
        "uploaded = files.upload()  # você pode arrastar e soltar vários arquivos aqui"
      ],
      "metadata": {
        "id": "fzngc2_Y_xMp",
        "collapsed": true
      },
      "execution_count": null,
      "outputs": []
    },
    {
      "cell_type": "code",
      "source": [
        "import whisper\n",
        "\n",
        "model = whisper.load_model(\"medium\")\n",
        "\n",
        "for filename in uploaded.keys():\n",
        "    print(f\"🔊 Transcrevendo: {filename}\")\n",
        "    result = model.transcribe(filename, language=\"pt\")\n",
        "\n",
        "    txt_filename = filename.rsplit(\".\", 1)[0] + \".txt\"\n",
        "    with open(txt_filename, \"w\", encoding=\"utf-8\") as f:\n",
        "        f.write(result[\"text\"])\n",
        "\n",
        "    print(f\"✅ Transcrição salva em: {txt_filename}\")\n"
      ],
      "metadata": {
        "id": "8Q05TNRdALCE",
        "collapsed": true
      },
      "execution_count": null,
      "outputs": []
    },
    {
      "cell_type": "code",
      "source": [
        "from google.colab import files\n",
        "import os\n",
        "\n",
        "for filename in uploaded.keys():\n",
        "    txt_filename = filename.rsplit(\".\", 1)[0] + \".txt\"\n",
        "    if os.path.exists(txt_filename):\n",
        "        files.download(txt_filename)\n"
      ],
      "metadata": {
        "id": "_V-WvAeAA3xU",
        "collapsed": true
      },
      "execution_count": null,
      "outputs": []
    }
  ]
}